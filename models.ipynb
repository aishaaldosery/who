{
 "cells": [
  {
   "cell_type": "code",
   "execution_count": null,
   "metadata": {},
   "outputs": [],
   "source": [
    "import pandas as pd\n",
    "import numpy as np\n",
    "\n",
    "from sklearn import svm\n",
    "from sklearn.metrics import roc_auc_score\n",
    "from sklearn.model_selection import cross_val_score\n",
    "\n",
    "from laserembeddings import Laser"
   ]
  },
  {
   "cell_type": "markdown",
   "metadata": {},
   "source": [
    "Also don't forget download pre-trained models \n",
    "\n",
    "$ python -m laserembeddings download-models"
   ]
  },
  {
   "cell_type": "code",
   "execution_count": null,
   "metadata": {},
   "outputs": [],
   "source": [
    "dataframes = pd.read_csv(open('data/train_dataset.csv', 'rb'))\n",
    "\n",
    "x_train = dataframes['tweet_text']\n",
    "y_train = dataframes['eyewitness']"
   ]
  },
  {
   "cell_type": "code",
   "execution_count": null,
   "metadata": {},
   "outputs": [],
   "source": [
    "nums = []\n",
    "count = 0\n",
    "for y in y_train:\n",
    "    if y == 1.0 or y == 0.0:\n",
    "        continue\n",
    "    else:\n",
    "        nums.append(count)\n",
    "    count +=1\n",
    "nums    "
   ]
  },
  {
   "cell_type": "code",
   "execution_count": null,
   "metadata": {},
   "outputs": [],
   "source": [
    "laser = Laser()\n",
    "\n",
    "embeddings = laser.embed_sentences(x_train, lang='en')"
   ]
  },
  {
   "cell_type": "code",
   "execution_count": null,
   "metadata": {},
   "outputs": [],
   "source": [
    "from sklearn.ensemble import RandomForestClassifier\n",
    "\n",
    "clf = RandomForestClassifier(n_estimators=1000, max_depth=None, min_samples_split=2, random_state=0)\n",
    "scores = cross_val_score(clf, embeddings[:1000], y_train[:1000], scoring='roc_auc', cv=20)\n",
    "scores.mean()"
   ]
  },
  {
   "cell_type": "code",
   "execution_count": null,
   "metadata": {},
   "outputs": [],
   "source": [
    "from sklearn import svm\n",
    "\n",
    "clf = svm.SVC(gamma='auto', kernel='poly')\n",
    "scores = cross_val_score(clf, embeddings[:1000], y_train[:1000], scoring='roc_auc', cv=10)\n",
    "scores.mean()"
   ]
  },
  {
   "cell_type": "code",
   "execution_count": null,
   "metadata": {},
   "outputs": [],
   "source": [
    "from sklearn.linear_model import SGDClassifier\n",
    "\n",
    "text_clf = SGDClassifier(loss='hinge',alpha=1e-3, random_state=42, max_iter=100, tol=None)\n",
    "scores = cross_val_score(clf, embeddings[:1000], y_train[:1000], scoring='roc_auc', cv=10)\n",
    "scores.mean()"
   ]
  },
  {
   "cell_type": "code",
   "execution_count": null,
   "metadata": {},
   "outputs": [],
   "source": [
    "from sklearn.ensemble import ExtraTreesClassifier\n",
    "\n",
    "text_clf = ExtraTreesClassifier(n_estimators=10, max_depth=None, min_samples_split=2, random_state=7)\n",
    "scores = cross_val_score(clf, embeddings[:1000], y_train[:1000], scoring='roc_auc', cv=10)\n",
    "scores.mean()"
   ]
  },
  {
   "cell_type": "code",
   "execution_count": null,
   "metadata": {},
   "outputs": [],
   "source": [
    "from sklearn.svm import LinearSVC\n",
    "\n",
    "text_clf = LinearSVC(C=1.0, class_weight=None, dual=True, fit_intercept=True, intercept_scaling=1, \n",
    "                     loss='hinge', max_iter=1000, multi_class='ovr', penalty='l2', random_state=None, \n",
    "                     tol=0.0001, verbose=0)\n",
    "scores = cross_val_score(clf, embeddings[:1000], y_train[:1000], scoring='roc_auc', cv=10)\n",
    "scores.mean()"
   ]
  },
  {
   "cell_type": "code",
   "execution_count": null,
   "metadata": {},
   "outputs": [],
   "source": [
    "from sklearn.neural_network import MLPClassifier\n",
    "\n",
    "text_clf = MLPClassifier(solver='sgd', alpha=1e-5, hidden_layer_sizes=(10, 5), random_state=1)\n",
    "scores = cross_val_score(clf, embeddings[:1000], y_train[:1000], scoring='roc_auc', cv=20)\n",
    "scores.mean()"
   ]
  },
  {
   "cell_type": "markdown",
   "metadata": {},
   "source": [
    "Results of cross-validation (20):\n",
    "\n",
    "info — 0.88\n",
    "\n",
    "gov — 0.74\n",
    "\n",
    "media — 0.96\n",
    "\n",
    "eyewitness — 0.82"
   ]
  }
 ],
 "metadata": {
  "kernelspec": {
   "display_name": "who",
   "language": "python",
   "name": "who"
  },
  "language_info": {
   "codemirror_mode": {
    "name": "ipython",
    "version": 3
   },
   "file_extension": ".py",
   "mimetype": "text/x-python",
   "name": "python",
   "nbconvert_exporter": "python",
   "pygments_lexer": "ipython3",
   "version": "3.7.2"
  }
 },
 "nbformat": 4,
 "nbformat_minor": 2
}
