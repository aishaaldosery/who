{
 "cells": [
  {
   "cell_type": "code",
   "execution_count": 13,
   "metadata": {},
   "outputs": [],
   "source": [
    "import operator\n",
    "\n",
    "import pandas as pd\n",
    "\n",
    "from langdetect import detect\n",
    "from glob import glob"
   ]
  },
  {
   "cell_type": "markdown",
   "metadata": {},
   "source": [
    "Full source data from WHO is here — https://drive.google.com/open?id=1jsasOgBDL0A4P7KMqNXqsbmOMRPXGmFZ\n",
    "\n",
    "Data stores in compressed .xlsx files.\n",
    "After downloading files an unzipping they need to replace in data folder in project directory."
   ]
  },
  {
   "cell_type": "code",
   "execution_count": 15,
   "metadata": {},
   "outputs": [],
   "source": [
    "filenames = glob('data/*Tweets (Users with _ 1,000 followers).xlsx')\n",
    "dataframes = [pd.read_excel(open(f, 'rb'), sheet_name='Archive') for f in filenames]\n",
    "data = pd.concat(dataframes)"
   ]
  },
  {
   "cell_type": "markdown",
   "metadata": {},
   "source": [
    "Detect languages of tweets in dataset."
   ]
  },
  {
   "cell_type": "code",
   "execution_count": 31,
   "metadata": {},
   "outputs": [],
   "source": [
    "language_distribution = {}\n",
    "errors = 0\n",
    "langs = []\n",
    "\n",
    "for text in data.text:\n",
    "    try:\n",
    "        langs.append(detect(text))\n",
    "        lang = detect(text)\n",
    "        if lang not in language_distribution:\n",
    "            language_distribution[lang] = 1\n",
    "        else:\n",
    "            language_distribution[lang] += 1\n",
    "    except:\n",
    "        langs.append('error')\n",
    "        errors += 1\n",
    "        continue\n",
    "        \n",
    "language_freq = sorted(language_distribution.items(), key=operator.itemgetter(1))"
   ]
  },
  {
   "cell_type": "markdown",
   "metadata": {},
   "source": [
    "Look at language distribution in datarame and number of undefined languages."
   ]
  },
  {
   "cell_type": "code",
   "execution_count": 43,
   "metadata": {},
   "outputs": [
    {
     "name": "stdout",
     "output_type": "stream",
     "text": [
      "Number of tweets with undefined language: 30877\n",
      "Distribution of different languages in dataframe: [('he', 66), ('hu', 111), ('sk', 116), ('zh-tw', 148), ('bg', 208), ('lt', 237), ('sq', 337), ('pa', 533), ('zh-cn', 636), ('mk', 678), ('uk', 688), ('no', 794), ('bn', 809), ('cs', 898), ('af', 911), ('cy', 938), ('vi', 978), ('lv', 1002), ('da', 1119), ('te', 1184), ('gu', 1497), ('fi', 1514), ('mr', 1737), ('ro', 1801), ('sl', 1870), ('ne', 1968), ('et', 1988), ('kn', 2246), ('ml', 2247), ('so', 2349), ('sv', 2370), ('ko', 2495), ('fa', 2754), ('ru', 3683), ('hr', 3684), ('el', 5499), ('sw', 5573), ('ur', 6034), ('tl', 6231), ('pl', 6656), ('nl', 8173), ('tr', 10566), ('ta', 17370), ('ar', 22556), ('de', 31165), ('ja', 32233), ('pt', 38489), ('hi', 44855), ('ca', 45082), ('th', 45452), ('it', 54841), ('id', 61841), ('fr', 258715), ('es', 670796), ('en', 2604813)]\n"
     ]
    }
   ],
   "source": [
    "print('Number of tweets with undefined language:', errors)\n",
    "print('Distribution of different languages in dataframe:', language_freq)"
   ]
  },
  {
   "cell_type": "markdown",
   "metadata": {},
   "source": [
    "Save data with information about language in file."
   ]
  },
  {
   "cell_type": "code",
   "execution_count": 36,
   "metadata": {},
   "outputs": [],
   "source": [
    "data['tweet_lang'] = langs\n",
    "data.to_csv('data/full_who_dataset.csv')"
   ]
  },
  {
   "cell_type": "code",
   "execution_count": 46,
   "metadata": {},
   "outputs": [],
   "source": [
    "data.reset_index(inplace=True)\n",
    "data.to_json('data/full_who_dataset.json')"
   ]
  }
 ],
 "metadata": {
  "kernelspec": {
   "display_name": "who",
   "language": "python",
   "name": "who"
  },
  "language_info": {
   "codemirror_mode": {
    "name": "ipython",
    "version": 3
   },
   "file_extension": ".py",
   "mimetype": "text/x-python",
   "name": "python",
   "nbconvert_exporter": "python",
   "pygments_lexer": "ipython3",
   "version": "3.7.2"
  }
 },
 "nbformat": 4,
 "nbformat_minor": 2
}
