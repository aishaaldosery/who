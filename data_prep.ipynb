{
 "cells": [
  {
   "cell_type": "code",
   "execution_count": 2,
   "metadata": {},
   "outputs": [],
   "source": [
    "import operator\n",
    "\n",
    "import pandas as pd\n",
    "\n",
    "from langdetect import detect\n",
    "from glob import glob"
   ]
  },
  {
   "cell_type": "markdown",
   "metadata": {},
   "source": [
    "Data stores in compressed .xlsx files.\n",
    "After downloading files an unzipping they need to replace in data folder in project directory."
   ]
  },
  {
   "cell_type": "code",
   "execution_count": null,
   "metadata": {},
   "outputs": [],
   "source": [
    "filenames = glob('data/*Tweets (Users with _ 1,000 followers).xlsx')\n",
    "dataframes = [pd.read_excel(open(f, 'rb'), sheet_name='Archive') for f in filenames]\n",
    "data = pd.concat(dataframes)"
   ]
  },
  {
   "cell_type": "code",
   "execution_count": 3,
   "metadata": {},
   "outputs": [],
   "source": [
    "data = pd.read_csv('data/full_who_dataset.csv')"
   ]
  },
  {
   "cell_type": "markdown",
   "metadata": {},
   "source": [
    "Detect languages of tweets in dataset."
   ]
  },
  {
   "cell_type": "code",
   "execution_count": 4,
   "metadata": {},
   "outputs": [],
   "source": [
    "language_distribution = {}\n",
    "errors = 0\n",
    "langs = []\n",
    "\n",
    "for text in data.text:\n",
    "    try:\n",
    "        langs.append(detect(text))\n",
    "        lang = detect(text)\n",
    "        if lang not in language_distribution:\n",
    "            language_distribution[lang] = 1\n",
    "        else:\n",
    "            language_distribution[lang] += 1\n",
    "    except:\n",
    "        langs.append('error')\n",
    "        errors += 1\n",
    "        continue\n",
    "        \n",
    "language_freq = sorted(language_distribution.items(), key=operator.itemgetter(1))"
   ]
  },
  {
   "cell_type": "markdown",
   "metadata": {},
   "source": [
    "Look at language distribution in datarame and number of undefined languages."
   ]
  },
  {
   "cell_type": "code",
   "execution_count": 5,
   "metadata": {},
   "outputs": [
    {
     "name": "stdout",
     "output_type": "stream",
     "text": [
      "Number of tweets with undefined language: 30877\n",
      "Distribution of different languages in dataframe: [('he', 65), ('hu', 105), ('sk', 109), ('zh-tw', 146), ('bg', 200), ('lt', 220), ('sq', 329), ('pa', 535), ('zh-cn', 630), ('mk', 685), ('uk', 687), ('bn', 811), ('no', 834), ('cs', 898), ('af', 919), ('vi', 946), ('cy', 950), ('lv', 996), ('da', 1112), ('te', 1188), ('gu', 1506), ('fi', 1512), ('mr', 1734), ('ro', 1748), ('sl', 1871), ('ne', 1959), ('et', 2005), ('ml', 2247), ('kn', 2248), ('so', 2367), ('sv', 2369), ('ko', 2525), ('fa', 2757), ('hr', 3676), ('ru', 3684), ('el', 5496), ('sw', 5589), ('ur', 6049), ('tl', 6241), ('pl', 6661), ('nl', 8167), ('tr', 10559), ('ta', 17363), ('ar', 22520), ('de', 31205), ('ja', 32267), ('pt', 38492), ('hi', 44894), ('ca', 45128), ('th', 45451), ('it', 54820), ('id', 61866), ('fr', 258752), ('es', 670756), ('en', 2604685)]\n"
     ]
    }
   ],
   "source": [
    "print('Number of tweets with undefined language:', errors)\n",
    "print('Distribution of different languages in dataframe:', language_freq)"
   ]
  },
  {
   "cell_type": "markdown",
   "metadata": {},
   "source": [
    "Save data with information about language in file."
   ]
  },
  {
   "cell_type": "code",
   "execution_count": null,
   "metadata": {},
   "outputs": [],
   "source": [
    "data['tweet_lang'] = langs\n",
    "data.to_csv('data/full_who_dataset.csv')"
   ]
  },
  {
   "cell_type": "code",
   "execution_count": null,
   "metadata": {},
   "outputs": [],
   "source": [
    "data.reset_index(inplace=True)\n",
    "data.to_json('data/full_who_dataset.json')"
   ]
  }
 ],
 "metadata": {
  "kernelspec": {
   "display_name": "who",
   "language": "python",
   "name": "who"
  },
  "language_info": {
   "codemirror_mode": {
    "name": "ipython",
    "version": 3
   },
   "file_extension": ".py",
   "mimetype": "text/x-python",
   "name": "python",
   "nbconvert_exporter": "python",
   "pygments_lexer": "ipython3",
   "version": "3.7.2"
  }
 },
 "nbformat": 4,
 "nbformat_minor": 2
}
