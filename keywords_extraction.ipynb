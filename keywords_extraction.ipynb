{
 "cells": [
  {
   "cell_type": "code",
   "execution_count": null,
   "metadata": {},
   "outputs": [],
   "source": [
    "!python -m spacy download en\n",
    "!python -m spacy download de\n",
    "!python -m spacy download es\n",
    "!python -m spacy download fr"
   ]
  },
  {
   "cell_type": "code",
   "execution_count": null,
   "metadata": {},
   "outputs": [],
   "source": [
    "import re\n",
    "import nltk\n",
    "import spacy\n",
    "\n",
    "import numpy as np\n",
    "import pandas as pd\n",
    "import matplotlib.pyplot as plt\n",
    "from collections import OrderedDict\n",
    "from nltk.corpus import stopwords\n",
    "\n",
    "from os import path\n",
    "from PIL import Image\n",
    "from wordcloud import WordCloud, ImageColorGenerator\n",
    "from glob import glob\n",
    "\n",
    "stopwords = set(STOPWORDS)"
   ]
  },
  {
   "cell_type": "code",
   "execution_count": null,
   "metadata": {
    "tags": []
   },
   "outputs": [],
   "source": [
    "def langcheck(lang):\n",
    "    if lang == 'en':\n",
    "        return 'english'\n",
    "    elif lang == 'es':\n",
    "        return 'spanish'\n",
    "    elif lang == 'de':\n",
    "        return 'german'\n",
    "    elif lang == 'fr':\n",
    "        return 'french'\n",
    "    else:\n",
    "        raise Exception(\"Sorry, we don't support this language\")\n",
    "\n",
    "def create_cloud(file, lang):\n",
    "    file = pd.read_csv(file, 'rb', delimiter = '\\t')\n",
    "    \n",
    "    nlp = spacy.load(lang)\n",
    "\n",
    "    stopwordsList = set(nltk.corpus.stopwords.words(langcheck(lang))) # load list of stopwords of target language\n",
    "    stopwordsList.add('covid') # here we add some covid-related words\n",
    "    stopwordsList.add('covid19')\n",
    "    stopwordsList.add('corona')\n",
    "    stopwordsList.add('coronavirus')\n",
    "    stopwordsList.add('covid-19')\n",
    "    stopwordsList.add('-PRON-')\n",
    "\n",
    "    text = '' # create an empty string\n",
    "    for row in file['text']:\n",
    "        row = re.sub('((www\\.[\\s]+)|(https?://[^\\s]+))', ' ', row)\n",
    "        row = re.sub('@[A-Za-z0-9_-]+', ' ', row)\n",
    "        row = re.sub('RT', ' ', row)\n",
    "        row = re.sub('#', ' ', row)\n",
    "        row = re.sub('[^\\w\\s]', ' ', row)\n",
    "        row = re.sub('[0-9]', ' ', row)\n",
    "        text = text + row # collecting preprocessed texts in one string\n",
    "        \n",
    "    text = text.lower() # prepare for tokenization\n",
    "    text_content = nlp(text)\n",
    "    text_content = [token.lemma_ for token in text_content]\n",
    "    \n",
    "\n",
    "    text_content = [word for word in text_content if word not in stopwordsList] # deleting stopwords in text\n",
    "    text_content = [s for s in text_content if len(s) >= 4] # filter words with lenght smaller than ...\n",
    "\n",
    "    fdist = nltk.FreqDist(text_content)   \n",
    "        \n",
    "    word_dict = {}\n",
    "    for key in fdist:\n",
    "        word_dict[key] = fdist[key]  \n",
    "\n",
    "    WC_height = 500\n",
    "    WC_width = 1000\n",
    "    WC_max_words = 200\n",
    "    wordCloud = WordCloud(stopwords=stopwords, width=1000, height=500, max_font_size=100, \n",
    "                            max_words=80, background_color=\"white\")\n",
    "    wordCloud.generate_from_frequencies(word_dict)\n",
    "        \n",
    "    plt.figure()\n",
    "    plt.imshow(wordCloud)\n",
    "    plt.axis(\"off\")\n",
    "    plt.show()"
   ]
  },
  {
   "cell_type": "code",
   "execution_count": null,
   "metadata": {},
   "outputs": [],
   "source": [
    "create_cloud('data/out/gobmx.csv', 'es') # support of 'en', 'es', 'de', 'fr' languages\n",
    "create_cloud('data/out/govuk.csv', 'en')"
   ]
  }
 ],
 "metadata": {
  "kernelspec": {
   "display_name": "who",
   "language": "python",
   "name": "who"
  },
  "language_info": {
   "codemirror_mode": {
    "name": "ipython",
    "version": 3
   },
   "file_extension": ".py",
   "mimetype": "text/x-python",
   "name": "python",
   "nbconvert_exporter": "python",
   "pygments_lexer": "ipython3",
   "version": "3.7.2-final"
  }
 },
 "nbformat": 4,
 "nbformat_minor": 2
}