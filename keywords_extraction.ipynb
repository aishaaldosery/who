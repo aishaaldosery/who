{
 "cells": [
  {
   "cell_type": "code",
   "execution_count": null,
   "metadata": {},
   "outputs": [],
   "source": [
    "import spacy\n",
    "import re\n",
    "\n",
    "import numpy as np\n",
    "import pandas as pd\n",
    "import matplotlib.pyplot as plt\n",
    "from collections import OrderedDict\n",
    "\n",
    "from spacy.lang.en.stop_words import STOP_WORDS\n",
    "from os import path\n",
    "from PIL import Image\n",
    "from wordcloud import WordCloud, STOPWORDS, ImageColorGenerator\n",
    "from glob import glob\n",
    "\n",
    "STOP_WORDS.add('rt'); STOP_WORDS.add('#'); STOP_WORDS.add('%')\n",
    "STOP_WORDS.add('|'); STOP_WORDS.add('https')\n",
    "\n",
    "nlp = spacy.load('en_core_web_sm')\n",
    "stopwords = set(STOPWORDS)"
   ]
  },
  {
   "cell_type": "code",
   "execution_count": null,
   "metadata": {},
   "outputs": [],
   "source": [
    "def create_cloud(file, out_name):\n",
    "    text = ''\n",
    "    try:\n",
    "        for num, row in enumerate(file['text']):\n",
    "            if file['tweet_lang'][num] == 'en':\n",
    "                text = re.sub('((www\\.[\\s]+)|(https?://[^\\s]+))', ' ', text)\n",
    "                text = re.sub('@[A-Za-z0-9]+', ' ', text)\n",
    "                text = text + row\n",
    "                \n",
    "        \n",
    "\n",
    "        wordcloud = WordCloud(stopwords=stopwords, width=800, height=400, max_font_size=50, \n",
    "                              max_words=80, background_color=\"white\").generate(full_data)\n",
    "        plt.figure()\n",
    "        plt.imshow(wordcloud)\n",
    "        plt.axis(\"off\")\n",
    "        plt.show()\n",
    "        wordcloud.to_file('data/wordclouds/' + out_name + '.png')\n",
    "    except:\n",
    "        print('error')\n",
    "\n",
    "\n",
    "filenames = glob('data/out/a11_*.csv')\n",
    "for f in filenames:\n",
    "    file = pd.read_csv(f, 'rb', delimiter = '\\t')\n",
    "    create_cloud(file, f[9:-4])"
   ]
  }
 ],
 "metadata": {
  "kernelspec": {
   "display_name": "who",
   "language": "python",
   "name": "who"
  },
  "language_info": {
   "codemirror_mode": {
    "name": "ipython",
    "version": 3
   },
   "file_extension": ".py",
   "mimetype": "text/x-python",
   "name": "python",
   "nbconvert_exporter": "python",
   "pygments_lexer": "ipython3",
   "version": "3.7.2"
  }
 },
 "nbformat": 4,
 "nbformat_minor": 2
}
