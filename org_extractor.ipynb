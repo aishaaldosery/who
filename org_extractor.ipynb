{
 "cells": [
  {
   "cell_type": "code",
   "execution_count": 17,
   "metadata": {},
   "outputs": [],
   "source": [
    "import re\n",
    "import operator\n",
    "\n",
    "from glob import glob\n",
    "import pandas as pd"
   ]
  },
  {
   "cell_type": "code",
   "execution_count": 18,
   "metadata": {},
   "outputs": [],
   "source": [
    "filenames = glob('data/full_who_dataset*.csv')\n",
    "dataframes = [pd.read_csv(open(f, 'rb')) for f in filenames]\n",
    "data = pd.concat(dataframes)"
   ]
  },
  {
   "cell_type": "code",
   "execution_count": 19,
   "metadata": {},
   "outputs": [],
   "source": [
    "data = data.drop(columns=['Unnamed: 0', 'level_0', 'index', ' '])\n",
    "data.reset_index(drop=True, inplace=True)"
   ]
  },
  {
   "cell_type": "markdown",
   "metadata": {},
   "source": [
    "Extract tweets from/about organisations from list of organisations"
   ]
  },
  {
   "cell_type": "code",
   "execution_count": 20,
   "metadata": {},
   "outputs": [],
   "source": [
    "data_a11 = pd.read_csv('data/org/a11.tsv', delimiter='\\t')\n",
    "data_a12 = pd.read_csv('data/org/a12.tsv', delimiter='\\t')"
   ]
  },
  {
   "cell_type": "code",
   "execution_count": 23,
   "metadata": {},
   "outputs": [],
   "source": [
    "def org_extraction(dataframe):\n",
    "    for x in range(len(dataframe)):\n",
    "        org = []\n",
    "        org_mention = dataframe.loc[x]['account']\n",
    "        org_account = re.sub('@', '', org_mention)\n",
    "        org_local_name = dataframe.loc[x]['local_name']\n",
    "        org_en_name = dataframe.loc[x]['english_name']\n",
    "\n",
    "        for num, row in enumerate(data['text']):\n",
    "            if type(org_mention) == str:\n",
    "                if re.findall(org_mention, str(row)):\n",
    "                    org.append(data.loc[num])\n",
    "            elif type(org_local_name) == str:\n",
    "                if re.findall(org_local_name, str(row)):\n",
    "                    org.append(data.loc[num])\n",
    "            elif type(org_en_name) == str:\n",
    "                if re.findall(org_en_name, str(row)):\n",
    "                    org.append(data.loc[num])\n",
    "        \n",
    "        for num, row in enumerate(data['from_user']):\n",
    "            if org_account == row:\n",
    "                org.append(data.loc[num])\n",
    "                \n",
    "        \n",
    "        org_data = pd.DataFrame(org)\n",
    "        org_data.drop_duplicates(subset =\"id_str\", keep = False, inplace = True)\n",
    "        org_data.drop_duplicates(subset =\"text\", keep = False, inplace = True)\n",
    "        org_data = org_data.reset_index(drop=True)\n",
    "        org_data.to_csv('data/out/a11_'+ org_account +'.csv', sep='\\t')"
   ]
  },
  {
   "cell_type": "code",
   "execution_count": 24,
   "metadata": {},
   "outputs": [],
   "source": [
    "org_extraction(data_a11)"
   ]
  },
  {
   "cell_type": "markdown",
   "metadata": {},
   "source": [
    "Find top-50 most frequent messages from the datasets"
   ]
  },
  {
   "cell_type": "code",
   "execution_count": 11,
   "metadata": {},
   "outputs": [],
   "source": [
    "top50 = {}\n",
    "\n",
    "for text in data['text']:\n",
    "    if text not in top50:\n",
    "        top50[text] = 1\n",
    "    else:\n",
    "        top50[text] += 1\n",
    "\n",
    "top50_freq = sorted(top50.items(), key=operator.itemgetter(1), reverse=True)"
   ]
  }
 ],
 "metadata": {
  "kernelspec": {
   "display_name": "who",
   "language": "python",
   "name": "who"
  },
  "language_info": {
   "codemirror_mode": {
    "name": "ipython",
    "version": 3
   },
   "file_extension": ".py",
   "mimetype": "text/x-python",
   "name": "python",
   "nbconvert_exporter": "python",
   "pygments_lexer": "ipython3",
   "version": "3.7.2"
  }
 },
 "nbformat": 4,
 "nbformat_minor": 2
}
