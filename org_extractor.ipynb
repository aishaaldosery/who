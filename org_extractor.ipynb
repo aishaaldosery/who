{
 "cells": [
  {
   "cell_type": "code",
   "execution_count": null,
   "metadata": {},
   "outputs": [],
   "source": [
    "import re\n",
    "\n",
    "import pandas as pd"
   ]
  },
  {
   "cell_type": "code",
   "execution_count": null,
   "metadata": {},
   "outputs": [],
   "source": [
    "data = pd.read_csv('data/full_who_dataset.csv')"
   ]
  },
  {
   "cell_type": "code",
   "execution_count": null,
   "metadata": {},
   "outputs": [],
   "source": [
    "data_a11 = pd.read_csv('data/org/a11.tsv', delimiter='\\t')\n",
    "data_a12 = pd.read_csv('data/org/a12.tsv', delimiter='\\t')"
   ]
  },
  {
   "cell_type": "code",
   "execution_count": null,
   "metadata": {},
   "outputs": [],
   "source": [
    "a11 = []\n",
    "\n",
    "for line in data_a11['account']:\n",
    "    for num, row in enumerate(data['text']):\n",
    "        if type(line) == str:\n",
    "            if re.findall(line, str(row)):\n",
    "                a11.append(data.loc[num])\n",
    "                \n",
    "    line = re.sub('@', '', line)\n",
    "    for num, row in enumerate(data['from_user']):\n",
    "        if line == row:\n",
    "            a11.append(data.loc[num])\n",
    "            \n",
    "for line in data_a11['local_name']:\n",
    "    for num, row in enumerate(data['text']):\n",
    "        if type(line) == str:\n",
    "            if re.findall(line, str(row)):\n",
    "                a11.append(data.loc[num])\n",
    "                \n",
    "for line in data_a11['english_name']:\n",
    "    for num, row in enumerate(data['text']):\n",
    "        if type(line) == str:\n",
    "            if re.findall(line, str(row)):\n",
    "                a11.append(data.loc[num])\n",
    "\n",
    "a11 = pd.DataFrame(a11)"
   ]
  },
  {
   "cell_type": "code",
   "execution_count": null,
   "metadata": {
    "scrolled": true
   },
   "outputs": [],
   "source": [
    "a11.drop_duplicates(subset =\"id_str\", keep = False, inplace = True)\n",
    "a11 = a11.drop(columns=['Unnamed: 0'])\n",
    "a11 = a11.reset_index(drop=True)\n",
    "a11.to_csv('data/out/a11.csv', sep='\\t')"
   ]
  },
  {
   "cell_type": "code",
   "execution_count": null,
   "metadata": {},
   "outputs": [],
   "source": [
    "a12 = []\n",
    "\n",
    "for line in data_a12['account']:\n",
    "    for num, row in enumerate(data['text']):\n",
    "        if type(line) == str:\n",
    "            if re.findall(line, str(row)):\n",
    "                a12.append(data.loc[num])\n",
    "                \n",
    "    line = re.sub('@', '', line)\n",
    "    for num, row in enumerate(data['from_user']):\n",
    "        if line == row:\n",
    "            a12.append(data.loc[num])\n",
    "            \n",
    "for line in data_a12['local_name']:\n",
    "    for num, row in enumerate(data['text']):\n",
    "        if type(line) == str:\n",
    "            if re.findall(line, str(row)):\n",
    "                a12.append(data.loc[num])\n",
    "                \n",
    "for line in data_a12['english_name']:\n",
    "    for num, row in enumerate(data['text']):\n",
    "        if type(line) == str:\n",
    "            if re.findall(line, str(row)):\n",
    "                a12.append(data.loc[num])\n",
    "\n",
    "a12 = pd.DataFrame(a12)"
   ]
  },
  {
   "cell_type": "code",
   "execution_count": null,
   "metadata": {},
   "outputs": [],
   "source": [
    "a12.drop_duplicates(subset =\"id_str\", keep = False, inplace = True)\n",
    "a12 = a12.drop(columns=['Unnamed: 0'])\n",
    "a12 = a12.reset_index(drop=True)\n",
    "a12.to_csv('data/out/a12.csv', sep='\\t')"
   ]
  }
 ],
 "metadata": {
  "kernelspec": {
   "display_name": "who",
   "language": "python",
   "name": "who"
  },
  "language_info": {
   "codemirror_mode": {
    "name": "ipython",
    "version": 3
   },
   "file_extension": ".py",
   "mimetype": "text/x-python",
   "name": "python",
   "nbconvert_exporter": "python",
   "pygments_lexer": "ipython3",
   "version": "3.7.2"
  }
 },
 "nbformat": 4,
 "nbformat_minor": 2
}
